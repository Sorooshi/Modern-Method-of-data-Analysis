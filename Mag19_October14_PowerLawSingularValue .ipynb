{
 "cells": [
  {
   "cell_type": "code",
   "execution_count": 1,
   "metadata": {},
   "outputs": [],
   "source": [
    "import numpy as np\n",
    "import numpy.linalg as LA\n",
    "from sklearn import datasets\n",
    "import matplotlib.pyplot as plt"
   ]
  },
  {
   "cell_type": "code",
   "execution_count": 2,
   "metadata": {},
   "outputs": [],
   "source": [
    "np.set_printoptions(suppress=True, precision=5)"
   ]
  },
  {
   "cell_type": "code",
   "execution_count": 3,
   "metadata": {},
   "outputs": [],
   "source": [
    "iris = datasets.load_iris()\n",
    "\n",
    "X = iris.data\n",
    "y = iris.target\n",
    "\n",
    "N, V = X.shape"
   ]
  },
  {
   "cell_type": "markdown",
   "metadata": {},
   "source": [
    "### cetering "
   ]
  },
  {
   "cell_type": "code",
   "execution_count": 4,
   "metadata": {},
   "outputs": [
    {
     "data": {
      "text/plain": [
       "(150, 4)"
      ]
     },
     "execution_count": 4,
     "metadata": {},
     "output_type": "execute_result"
    }
   ],
   "source": [
    "Y = np.subtract(X , np.mean(X, axis=0))\n",
    "Y.shape"
   ]
  },
  {
   "cell_type": "markdown",
   "metadata": {},
   "source": [
    "### power low method"
   ]
  },
  {
   "cell_type": "code",
   "execution_count": 5,
   "metadata": {},
   "outputs": [
    {
     "data": {
      "text/plain": [
       "(4, 150)"
      ]
     },
     "execution_count": 5,
     "metadata": {},
     "output_type": "execute_result"
    }
   ],
   "source": [
    "Y.transpose().shape"
   ]
  },
  {
   "cell_type": "code",
   "execution_count": 6,
   "metadata": {},
   "outputs": [
    {
     "data": {
      "text/plain": [
       "array([[102.16833,  -6.32267, 189.873  ,  76.92433],\n",
       "       [ -6.32267,  28.30693, -49.1188 , -18.12427],\n",
       "       [189.873  , -49.1188 , 464.3254 , 193.0458 ],\n",
       "       [ 76.92433, -18.12427, 193.0458 ,  86.56993]])"
      ]
     },
     "execution_count": 6,
     "metadata": {},
     "output_type": "execute_result"
    }
   ],
   "source": [
    "A = np.matmul(Y.transpose(), Y)\n",
    "A"
   ]
  },
  {
   "cell_type": "code",
   "execution_count": 7,
   "metadata": {},
   "outputs": [
    {
     "data": {
      "text/plain": [
       "array([[1.],\n",
       "       [1.],\n",
       "       [1.],\n",
       "       [1.]])"
      ]
     },
     "execution_count": 7,
     "metadata": {},
     "output_type": "execute_result"
    }
   ],
   "source": [
    "c0 = np.ones([V, 1])\n",
    "c0"
   ]
  },
  {
   "cell_type": "code",
   "execution_count": 8,
   "metadata": {},
   "outputs": [
    {
     "data": {
      "text/plain": [
       "940.7910034865554"
      ]
     },
     "execution_count": 8,
     "metadata": {},
     "output_type": "execute_result"
    }
   ],
   "source": [
    "Lambda = np.sqrt(np.sum(np.power(np.matmul(A, c0), 2)))\n",
    "Lambda"
   ]
  },
  {
   "cell_type": "code",
   "execution_count": 9,
   "metadata": {},
   "outputs": [
    {
     "data": {
      "text/plain": [
       "940.7910034865554"
      ]
     },
     "execution_count": 9,
     "metadata": {},
     "output_type": "execute_result"
    }
   ],
   "source": [
    "Lambda = LA.norm(np.matmul(A, c0))\n",
    "Lambda"
   ]
  },
  {
   "cell_type": "code",
   "execution_count": 10,
   "metadata": {},
   "outputs": [
    {
     "data": {
      "text/plain": [
       "array([[ 0.38547],\n",
       "       [-0.04811],\n",
       "       [ 0.84836],\n",
       "       [ 0.35971]])"
      ]
     },
     "execution_count": 10,
     "metadata": {},
     "output_type": "execute_result"
    }
   ],
   "source": [
    "c1 = (A@c0)/Lambda\n",
    "c1"
   ]
  },
  {
   "cell_type": "code",
   "execution_count": 11,
   "metadata": {},
   "outputs": [
    {
     "name": "stdout",
     "output_type": "stream",
     "text": [
      "iters: 5\n",
      "Lambda: 630.0080141991239\n",
      "c1: [[ 0.36139]\n",
      " [-0.08452]\n",
      " [ 0.85667]\n",
      " [ 0.35829]]\n"
     ]
    }
   ],
   "source": [
    "iters = 0\n",
    "while np.sqrt(np.sum(np.power(np.subtract(c1, c0), 2))) > 0.000001:\n",
    "    iters +=1 \n",
    "    c0 = np.copy(c1)\n",
    "    Lambda = LA.norm(np.matmul(A, c0))\n",
    "    c1 = (A@c0)/Lambda\n",
    "print(\"iters:\", iters)\n",
    "print(\"Lambda:\", Lambda, )\n",
    "print(\"c1:\", c1)"
   ]
  },
  {
   "cell_type": "code",
   "execution_count": 12,
   "metadata": {},
   "outputs": [
    {
     "data": {
      "text/plain": [
       "array([[227.67645],\n",
       "       [-53.24986],\n",
       "       [539.70935],\n",
       "       [225.72507]])"
      ]
     },
     "execution_count": 12,
     "metadata": {},
     "output_type": "execute_result"
    }
   ],
   "source": [
    "A@c1 "
   ]
  },
  {
   "cell_type": "code",
   "execution_count": 13,
   "metadata": {},
   "outputs": [
    {
     "data": {
      "text/plain": [
       "array([[227.67646],\n",
       "       [-53.24985],\n",
       "       [539.70934],\n",
       "       [225.72506]])"
      ]
     },
     "execution_count": 13,
     "metadata": {},
     "output_type": "execute_result"
    }
   ],
   "source": [
    "Lambda*c1"
   ]
  },
  {
   "cell_type": "code",
   "execution_count": 14,
   "metadata": {},
   "outputs": [
    {
     "data": {
      "text/plain": [
       "array([[1.23926e+20, 1.02095e+08, 6.09021e+22, 7.25500e+18],\n",
       "       [1.02095e+08, 3.30315e+14, 8.17481e+16, 3.82476e+12],\n",
       "       [6.09021e+22, 8.17481e+16, 4.65827e+26, 7.18793e+22],\n",
       "       [7.25500e+18, 3.82476e+12, 7.18793e+22, 2.36413e+19]])"
      ]
     },
     "execution_count": 14,
     "metadata": {},
     "output_type": "execute_result"
    }
   ],
   "source": [
    "A_10 = np.power(A, 10)\n",
    "A_10"
   ]
  },
  {
   "cell_type": "code",
   "execution_count": 15,
   "metadata": {},
   "outputs": [
    {
     "data": {
      "text/plain": [
       "array([[      1.     ,       0.     ,     491.43834,       0.05854],\n",
       "       [      0.     ,       0.     ,       0.00066,       0.     ],\n",
       "       [    491.43834,       0.00066, 3758904.80435,     580.01668],\n",
       "       [      0.05854,       0.     ,     580.01668,       0.19077]])"
      ]
     },
     "execution_count": 15,
     "metadata": {},
     "output_type": "execute_result"
    }
   ],
   "source": [
    "np.divide(A_10, A_10[0, 0])"
   ]
  },
  {
   "cell_type": "code",
   "execution_count": 16,
   "metadata": {},
   "outputs": [
    {
     "data": {
      "text/plain": [
       "array([[1.53577e+40, 1.04233e+16, 3.70906e+45, 5.26350e+37],\n",
       "       [1.04233e+16, 1.09108e+29, 6.68275e+33, 1.46288e+25],\n",
       "       [3.70906e+45, 6.68275e+33, 2.16995e+53, 5.16663e+45],\n",
       "       [5.26350e+37, 1.46288e+25, 5.16663e+45, 5.58910e+38]])"
      ]
     },
     "execution_count": 16,
     "metadata": {},
     "output_type": "execute_result"
    }
   ],
   "source": [
    "A_20 = np.power(A, 20)\n",
    "A_20"
   ]
  },
  {
   "cell_type": "code",
   "execution_count": 17,
   "metadata": {},
   "outputs": [
    {
     "data": {
      "text/plain": [
       "array([[1.00000e+00, 6.78703e-25, 2.41512e+05, 3.42727e-03],\n",
       "       [6.78703e-25, 7.10445e-12, 4.35140e-07, 9.52539e-16],\n",
       "       [2.41512e+05, 4.35140e-07, 1.41294e+13, 3.36419e+05],\n",
       "       [3.42727e-03, 9.52539e-16, 3.36419e+05, 3.63928e-02]])"
      ]
     },
     "execution_count": 17,
     "metadata": {},
     "output_type": "execute_result"
    }
   ],
   "source": [
    "np.divide(A_20, A_20[0, 0])"
   ]
  },
  {
   "cell_type": "code",
   "execution_count": 18,
   "metadata": {},
   "outputs": [
    {
     "data": {
      "text/plain": [
       "array([[1.90322e+60, 1.06416e+24, 2.25890e+68, 3.81867e+56],\n",
       "       [1.06416e+24, 3.60400e+43, 5.46302e+50, 5.59517e+37],\n",
       "       [2.25890e+68, 5.46302e+50, 1.01082e+80, 3.71373e+68],\n",
       "       [3.81867e+56, 5.59517e+37, 3.71373e+68, 1.32133e+58]])"
      ]
     },
     "execution_count": 18,
     "metadata": {},
     "output_type": "execute_result"
    }
   ],
   "source": [
    "A_30 = np.power(A, 30)\n",
    "A_30"
   ]
  },
  {
   "cell_type": "code",
   "execution_count": 19,
   "metadata": {},
   "outputs": [
    {
     "data": {
      "text/plain": [
       "array([[0., 0., 0., 0.],\n",
       "       [0., 0., 0., 0.],\n",
       "       [0., 0., 0., 0.],\n",
       "       [0., 0., 0., 0.]])"
      ]
     },
     "execution_count": 19,
     "metadata": {},
     "output_type": "execute_result"
    }
   ],
   "source": [
    "np.divide(A_20, A_30[0, 0])"
   ]
  },
  {
   "cell_type": "code",
   "execution_count": 20,
   "metadata": {},
   "outputs": [
    {
     "data": {
      "text/plain": [
       "array([[0., 0., 0., 0.],\n",
       "       [0., 0., 0., 0.],\n",
       "       [0., 0., 0., 0.],\n",
       "       [0., 0., 0., 0.]])"
      ]
     },
     "execution_count": 20,
     "metadata": {},
     "output_type": "execute_result"
    }
   ],
   "source": [
    "np.divide(A_20, A_30)"
   ]
  },
  {
   "cell_type": "code",
   "execution_count": 21,
   "metadata": {},
   "outputs": [
    {
     "data": {
      "text/plain": [
       "array([[     0.26603,      0.     ,    130.73976,      0.01557],\n",
       "       [     0.     ,      0.     ,      0.00018,      0.     ],\n",
       "       [   130.73976,      0.00018, 999999.9591 ,    154.30469],\n",
       "       [     0.01557,      0.     ,    154.30469,      0.05075]])"
      ]
     },
     "execution_count": 21,
     "metadata": {},
     "output_type": "execute_result"
    }
   ],
   "source": [
    "np.divide(A_10, LA.norm(A_10))*1000000"
   ]
  },
  {
   "cell_type": "code",
   "execution_count": 22,
   "metadata": {},
   "outputs": [
    {
     "data": {
      "text/plain": [
       "array([[      0.     ,       0.     ,       0.01709,       0.     ],\n",
       "       [      0.     ,       0.     ,       0.     ,       0.     ],\n",
       "       [      0.01709,       0.     , 1000000.     ,       0.02381],\n",
       "       [      0.     ,       0.     ,       0.02381,       0.     ]])"
      ]
     },
     "execution_count": 22,
     "metadata": {},
     "output_type": "execute_result"
    }
   ],
   "source": [
    "np.divide(A_20, LA.norm(A_20))*1000000"
   ]
  },
  {
   "cell_type": "code",
   "execution_count": 23,
   "metadata": {},
   "outputs": [
    {
     "data": {
      "text/plain": [
       "array([[      0.,       0.,       0.,       0.],\n",
       "       [      0.,       0.,       0.,       0.],\n",
       "       [      0.,       0., 1000000.,       0.],\n",
       "       [      0.,       0.,       0.,       0.]])"
      ]
     },
     "execution_count": 23,
     "metadata": {},
     "output_type": "execute_result"
    }
   ],
   "source": [
    "np.divide(A_30, LA.norm(A_30))*1000000"
   ]
  },
  {
   "cell_type": "code",
   "execution_count": null,
   "metadata": {},
   "outputs": [],
   "source": []
  },
  {
   "cell_type": "code",
   "execution_count": null,
   "metadata": {},
   "outputs": [],
   "source": []
  }
 ],
 "metadata": {
  "kernelspec": {
   "display_name": "Python 3",
   "language": "python",
   "name": "python3"
  },
  "language_info": {
   "codemirror_mode": {
    "name": "ipython",
    "version": 3
   },
   "file_extension": ".py",
   "mimetype": "text/x-python",
   "name": "python",
   "nbconvert_exporter": "python",
   "pygments_lexer": "ipython3",
   "version": "3.7.3"
  }
 },
 "nbformat": 4,
 "nbformat_minor": 2
}
