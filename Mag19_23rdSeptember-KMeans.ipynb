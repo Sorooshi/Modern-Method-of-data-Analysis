{
 "cells": [
  {
   "cell_type": "code",
   "execution_count": 25,
   "metadata": {},
   "outputs": [],
   "source": [
    "import warnings\n",
    "import numpy as np\n",
    "from sklearn import datasets\n",
    "from sklearn.cluster import MiniBatchKMeans\n",
    "from sklearn.metrics.cluster import contingency_matrix"
   ]
  },
  {
   "cell_type": "code",
   "execution_count": 16,
   "metadata": {},
   "outputs": [],
   "source": [
    "warnings.filterwarnings('ignore')\n",
    "np.set_printoptions(suppress=True, linewidth=150, precision=2)"
   ]
  },
  {
   "cell_type": "markdown",
   "metadata": {},
   "source": [
    "### Load data"
   ]
  },
  {
   "cell_type": "code",
   "execution_count": 6,
   "metadata": {},
   "outputs": [],
   "source": [
    "iris= datasets.load_iris()\n",
    "X = iris.data \n",
    "y = iris.target"
   ]
  },
  {
   "cell_type": "markdown",
   "metadata": {},
   "source": [
    "### Normalization"
   ]
  },
  {
   "cell_type": "code",
   "execution_count": 8,
   "metadata": {},
   "outputs": [
    {
     "data": {
      "text/plain": [
       "(150, 4)"
      ]
     },
     "execution_count": 8,
     "metadata": {},
     "output_type": "execute_result"
    }
   ],
   "source": [
    "me = np.mean(X, axis=0) # mean\n",
    "ra = np.ptp(X, axis=0)  # range \n",
    "Y = np.divide(np.subtract(X, me), ra) # normilizad\n",
    "Y.shape"
   ]
  },
  {
   "cell_type": "code",
   "execution_count": 11,
   "metadata": {},
   "outputs": [
    {
     "data": {
      "text/plain": [
       "3"
      ]
     },
     "execution_count": 11,
     "metadata": {},
     "output_type": "execute_result"
    }
   ],
   "source": [
    "batch_size = 10\n",
    "centers = np.array([Y[1, :], Y[52,:], Y[111, :]])\n",
    "n_clusters = len(centers)\n",
    "n_clusters"
   ]
  },
  {
   "cell_type": "markdown",
   "metadata": {},
   "source": [
    "## Apply K-Means (batch)"
   ]
  },
  {
   "cell_type": "code",
   "execution_count": 27,
   "metadata": {},
   "outputs": [
    {
     "name": "stdout",
     "output_type": "stream",
     "text": [
      "delta1: [-14.33  12.12 -61.1  -79.49] #el: 50\n",
      "delta2: [  0.73 -11.03  13.78   9.73] #el: 50\n",
      "delta3: [13.6  -1.09 47.31 69.76] #el: 50\n",
      "inertia: 7.5067034205293055\n",
      "[[50  0  0]\n",
      " [ 0 46  4]\n",
      " [ 0  4 46]]\n",
      " \n",
      "delta1: [-14.33  12.12 -61.1  -79.49] #el: 50\n",
      "delta2: [ -0.01 -11.75  13.72  10.44] #el: 49\n",
      "delta3: [14.06 -0.59 46.72 67.9 ] #el: 51\n",
      "inertia: 7.225790569080509\n",
      "[[50  0  0]\n",
      " [ 0 44  6]\n",
      " [ 0  5 45]]\n",
      " \n",
      "delta1: [-14.33  12.12 -61.1  -79.49] #el: 50\n",
      "delta2: [  0.87 -10.66  14.01  10.19] #el: 51\n",
      "delta3: [13.72 -1.27 47.77 70.5 ] #el: 49\n",
      "inertia: 7.634114806535553\n",
      "[[50  0  0]\n",
      " [ 0 47  3]\n",
      " [ 0  4 46]]\n",
      " \n",
      "delta1: [-14.33  12.12 -61.1  -79.49] #el: 50\n",
      "delta2: [  0.77 -10.45  17.    18.24] #el: 61\n",
      "delta3: [17.16  0.81 51.74 73.39] #el: 39\n",
      "inertia: 7.189487700607209\n",
      "[[50  0  0]\n",
      " [ 0 47  3]\n",
      " [ 0 14 36]]\n",
      " \n",
      "delta1: [-14.33  12.12 -61.1  -79.49] #el: 50\n",
      "delta2: [ -0.44 -11.75  14.63  13.3 ] #el: 51\n",
      "delta3: [15.08 -0.14 47.11 67.27] #el: 49\n",
      "inertia: 7.150360582288718\n",
      "[[50  0  0]\n",
      " [ 0 43  7]\n",
      " [ 0  8 42]]\n",
      " \n"
     ]
    }
   ],
   "source": [
    "for i in range(5):\n",
    "    \n",
    "    mbk = MiniBatchKMeans(n_clusters=n_clusters, batch_size=batch_size, init=centers)\n",
    "    mbk.fit(Y)  # Compute K-mean\n",
    "    ms = mbk.labels_\n",
    "    \n",
    "    cluster1 = X[np.where(ms==0)]\n",
    "    cluster2 = X[np.where(ms==1)]\n",
    "    cluster3 = X[np.where(ms==2)]\n",
    "    \n",
    "    mc1 = np.mean(cluster1, axis=0)\n",
    "    mc2 = np.mean(cluster2, axis=0)\n",
    "    mc3 = np.mean(cluster3, axis=0)\n",
    "    \n",
    "    \n",
    "    d1 = 100*(np.divide(np.subtract(mc1, me), me))\n",
    "    d2 = 100*(np.divide(np.subtract(mc2, me), me))\n",
    "    d3 = 100*(np.divide(np.subtract(mc3, me), me))\n",
    "    \n",
    "    \n",
    "    print(\"delta1:\", d1, \"#el:\", cluster1.shape[0])\n",
    "    print(\"delta2:\", d2, \"#el:\", cluster2.shape[0])\n",
    "    print(\"delta3:\", d3, \"#el:\", cluster3.shape[0])\n",
    "    print(\"inertia:\", mbk.inertia_)\n",
    "    cont_tb = contingency_matrix(labels_true=y, labels_pred=ms)\n",
    "    print(cont_tb)\n",
    "    \n",
    "    print(\" \")\n",
    "    "
   ]
  },
  {
   "cell_type": "code",
   "execution_count": null,
   "metadata": {},
   "outputs": [],
   "source": []
  }
 ],
 "metadata": {
  "kernelspec": {
   "display_name": "tf_ven",
   "language": "python",
   "name": "tf_ven"
  },
  "language_info": {
   "codemirror_mode": {
    "name": "ipython",
    "version": 3
   },
   "file_extension": ".py",
   "mimetype": "text/x-python",
   "name": "python",
   "nbconvert_exporter": "python",
   "pygments_lexer": "ipython3",
   "version": "3.7.3"
  }
 },
 "nbformat": 4,
 "nbformat_minor": 2
}
