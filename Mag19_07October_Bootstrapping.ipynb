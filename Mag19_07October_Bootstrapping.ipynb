{
 "cells": [
  {
   "cell_type": "code",
   "execution_count": 1,
   "metadata": {},
   "outputs": [],
   "source": [
    "import warnings\n",
    "import numpy as np\n",
    "from sklearn import datasets\n",
    "import matplotlib.pyplot as plt \n",
    "from sklearn.cluster import MiniBatchKMeans"
   ]
  },
  {
   "cell_type": "code",
   "execution_count": 2,
   "metadata": {},
   "outputs": [],
   "source": [
    "warnings.filterwarnings('ignore')\n",
    "np.set_printoptions(suppress=True, precision=2)"
   ]
  },
  {
   "cell_type": "markdown",
   "metadata": {},
   "source": [
    "### Loading the data"
   ]
  },
  {
   "cell_type": "code",
   "execution_count": 3,
   "metadata": {},
   "outputs": [],
   "source": [
    "iris = datasets.load_iris()\n",
    "data = iris.data\n",
    "targets = iris.target"
   ]
  },
  {
   "cell_type": "code",
   "execution_count": 4,
   "metadata": {},
   "outputs": [
    {
     "data": {
      "image/png": "[encoded data removed]",
      "text/plain": [
       "<Figure size 432x288 with 1 Axes>"
      ]
     },
     "metadata": {
      "needs_background": "light"
     },
     "output_type": "display_data"
    }
   ],
   "source": [
    "x = data[:, 0]  # a random variable\n",
    "plt.hist(x, bins=20)\n",
    "plt.title(\"Histogram of random samples\")\n",
    "plt.show()"
   ]
  },
  {
   "cell_type": "code",
   "execution_count": 5,
   "metadata": {},
   "outputs": [],
   "source": [
    "mean_samples = np.mean(x)\n",
    "std_samples = np.std(x)"
   ]
  },
  {
   "cell_type": "code",
   "execution_count": 6,
   "metadata": {},
   "outputs": [
    {
     "data": {
      "text/plain": [
       "(10,)"
      ]
     },
     "execution_count": 6,
     "metadata": {},
     "output_type": "execute_result"
    }
   ],
   "source": [
    "tmp = np.random.choice(x, 10, 50)\n",
    "tmp.shape"
   ]
  },
  {
   "cell_type": "code",
   "execution_count": 7,
   "metadata": {},
   "outputs": [],
   "source": [
    "def compute_confidence(resampled_means, resampled_stds=None):\n",
    "    \n",
    "    # pivotal method:\n",
    "    boots_mean = np.mean(resampled_means)\n",
    "    if resampled_stds is None:\n",
    "        boots_std = np.std(resampled_means)\n",
    "    else:\n",
    "        boots_std = np.std(resampled_stds)\n",
    "\n",
    "    lbp = boots_mean - 1.96*boots_std  # left bound pivotal\n",
    "    rbp = boots_mean + 1.96*boots_std  # right bound pivotal\n",
    "\n",
    "    # Non-pivotal:\n",
    "    lower_bound_index = int((len(resampled_means))*.025)\n",
    "    higher_bound_index = int((len(resampled_means))*.975)\n",
    "    resampled_mean_sorted = sorted(resampled_means,)\n",
    "\n",
    "    lbn = resampled_mean_sorted[lower_bound_index]  # left bound non pivotal\n",
    "    rbn = resampled_mean_sorted[higher_bound_index]  # right bound non pivotal\n",
    "    \n",
    "    return boots_mean, boots_std, lbp, rbp, lbn, rbn"
   ]
  },
  {
   "cell_type": "markdown",
   "metadata": {},
   "source": [
    "# Bootstrapping"
   ]
  },
  {
   "cell_type": "code",
   "execution_count": 8,
   "metadata": {},
   "outputs": [],
   "source": [
    "def bootstrapping(x, n_resample, n_bootstrap):\n",
    "    \n",
    "    \"\"\"\n",
    "        x, a 1-D array, representing the random samples.\n",
    "        n_ resample, an int, representing random sampling size\n",
    "        n_ bootstrap, an int, representing the number of \n",
    "        repeats in the bootstrapping procedure.\n",
    "\n",
    "        Returns x_resampled_means, x_resampled_stds, boots_mean, boots_std, lbp, rbp, lbn, rbn, where\n",
    "        x_resampled_means: list of means of resampled data(x) of the length n_resample,\n",
    "        x_resampled_stds: list of standard deviations of resampled data(x) of the length n_resample,\n",
    "        boots_mean: floating number, representing bootstrap mean --i.e mean of means)\n",
    "        boots_std: floating number, representing bootstrap std --i.e std of stds.\n",
    "\n",
    "    \"\"\"\n",
    "\n",
    "    np.random.seed(42)  # for the sake of reproducibility\n",
    "    x_resampled_means, x_resampled_stds = [], []\n",
    "\n",
    "    for _ in range(n_bootstrap):\n",
    "        x_resampled = np.random.choice(x, size=n_resample, replace=True,)\n",
    "        x_resampled_means.append(np.mean(x_resampled))\n",
    "        x_resampled_stds.append(np.std(x_resampled))  # /np.sqrt(len(x)))\n",
    "\n",
    "    boots_mean, boots_std, lbp, rbp, lbn, rbn = compute_confidence(resampled_means=x_resampled_means, resampled_stds=x_resampled_stds)\n",
    "\n",
    "    return x_resampled_means, x_resampled_stds, boots_mean, boots_std, lbp, rbp, lbn, rbn"
   ]
  },
  {
   "cell_type": "code",
   "execution_count": 9,
   "metadata": {},
   "outputs": [],
   "source": [
    "n_resample = 150\n",
    "n_bootstrap = 5000\n",
    "\n",
    "x_resampled_means, x_resampled_stds, x_boots_mean, \\\n",
    "x_boots_std, x_lbp, x_rbp, x_lbn, x_rbn = bootstrapping(x=x, n_resample=n_resample, n_bootstrap=n_bootstrap)\n",
    "\n",
    "# plt.hist(x_resampled_means, bins=50)\n",
    "# plt.title(\"Histogram of Means of Resampled Data\")\n",
    "# plt.show()"
   ]
  },
  {
   "cell_type": "markdown",
   "metadata": {},
   "source": [
    "The figure abone looks quite Gaussian!"
   ]
  },
  {
   "cell_type": "markdown",
   "metadata": {},
   "source": [
    "### Comparison"
   ]
  },
  {
   "cell_type": "code",
   "execution_count": 10,
   "metadata": {},
   "outputs": [
    {
     "name": "stdout",
     "output_type": "stream",
     "text": [
      "Samples Mean          : 5.8433  Samples Std             : 0.8253\n",
      "Bootstrap Mean        : 5.8427  Bootstrap Std           : 0.0399\n",
      " \n",
      "Left Bound-Pivotal    : 5.7644  Right Bound-Pivotal     : 5.9210\n",
      "Left Bound-Non Pivotal: 5.7120  Right Bound-Non Pivotal : 5.9747\n"
     ]
    }
   ],
   "source": [
    "print(\"Samples Mean          : %.4f\" % mean_samples, \" Samples Std             : %.4f\" % std_samples)\n",
    "print(\"Bootstrap Mean        : %.4f\" % x_boots_mean, \" Bootstrap Std           : %.4f\" % x_boots_std)\n",
    "print(\" \")\n",
    "print(\"Left Bound-Pivotal    : %.4f\" % x_lbp, \" Right Bound-Pivotal     : %.4f\" % x_rbp)\n",
    "print(\"Left Bound-Non Pivotal: %.4f\" % x_lbn, \" Right Bound-Non Pivotal : %.4f\" % x_rbn)"
   ]
  },
  {
   "cell_type": "markdown",
   "metadata": {},
   "source": [
    "#### conslusion:\n",
    "\n",
    "As one can see the original sample means relies between the left and right boundries both in pivotal and not pivotal methods."
   ]
  },
  {
   "cell_type": "markdown",
   "metadata": {},
   "source": [
    "# clustering"
   ]
  },
  {
   "cell_type": "markdown",
   "metadata": {},
   "source": [
    "### data normalization"
   ]
  },
  {
   "cell_type": "code",
   "execution_count": 11,
   "metadata": {},
   "outputs": [
    {
     "data": {
      "text/plain": [
       "(150, 4)"
      ]
     },
     "execution_count": 11,
     "metadata": {},
     "output_type": "execute_result"
    }
   ],
   "source": [
    "mean = np.mean(data, axis=0) # mean\n",
    "rng = np.ptp(data, axis=0)  # range \n",
    "Y = np.divide(np.subtract(data, mean), rng) # normilizad\n",
    "Y.shape"
   ]
  },
  {
   "cell_type": "markdown",
   "metadata": {},
   "source": [
    "### Apply Minibatch clustering Algorithm"
   ]
  },
  {
   "cell_type": "code",
   "execution_count": 12,
   "metadata": {},
   "outputs": [
    {
     "data": {
      "text/plain": [
       "5"
      ]
     },
     "execution_count": 12,
     "metadata": {},
     "output_type": "execute_result"
    }
   ],
   "source": [
    "batch_size = 10\n",
    "n_repeats = 10\n",
    "centers = np.array([Y[1, :], Y[31, :], Y[52, :], Y[82,:], Y[111, :]])\n",
    "n_clusters = 5\n",
    "n_clusters"
   ]
  },
  {
   "cell_type": "code",
   "execution_count": 13,
   "metadata": {},
   "outputs": [],
   "source": [
    "tmp = 0\n",
    "clusters = {}\n",
    "idxs = {}\n",
    "cluster_means = {}\n",
    "differences = {}\n",
    "\n",
    "for i in range(n_repeats):\n",
    "    mbk = MiniBatchKMeans(n_clusters=n_clusters, batch_size=batch_size, init=centers, n_init=1, )\n",
    "    mbk.fit(Y)  # Compute K-mean\n",
    "    ms = mbk.labels_\n",
    "    \n",
    "    # to chose the best clustering results regarding the inertia\n",
    "    if i == 0 :\n",
    "        tmp = mbk.inertia_\n",
    "        delta = 0\n",
    "    if i != 0:\n",
    "        delta = tmp - mbk.inertia_\n",
    "    if delta > 0:\n",
    "        tmp = mbk.inertia_\n",
    "        \n",
    "        for k in range(n_clusters):\n",
    "            clusters[k] = data[np.where(ms==k)]\n",
    "            idxs[k] = np.where(ms==k)[0]\n",
    "        for k in range(n_clusters):\n",
    "            cluster_means[k] = np.mean(clusters[k], axis=0)\n",
    "            differences[k] = 100*(np.divide(np.subtract(cluster_means[k], mean), mean))"
   ]
  },
  {
   "cell_type": "markdown",
   "metadata": {},
   "source": [
    "Let us investigate the cluster means and chose two clusters in which they have similar means"
   ]
  },
  {
   "cell_type": "code",
   "execution_count": 14,
   "metadata": {},
   "outputs": [
    {
     "data": {
      "text/plain": [
       "{0: array([4.71, 3.1 , 1.43, 0.2 ]),\n",
       " 1: array([5.22, 3.67, 1.48, 0.28]),\n",
       " 2: array([6.25, 2.9 , 4.87, 1.64]),\n",
       " 3: array([5.6 , 2.58, 4.03, 1.23]),\n",
       " 4: array([6.94, 3.13, 5.83, 2.17])}"
      ]
     },
     "execution_count": 14,
     "metadata": {},
     "output_type": "execute_result"
    }
   ],
   "source": [
    "cluster_means"
   ]
  },
  {
   "cell_type": "code",
   "execution_count": 15,
   "metadata": {},
   "outputs": [
    {
     "data": {
      "text/plain": [
       "{0: array([-19.4 ,   1.4 , -61.86, -83.32]),\n",
       " 1: array([-10.66,  19.89, -60.54, -76.71]),\n",
       " 2: array([ 6.92, -5.15, 29.59, 36.95]),\n",
       " 3: array([ -4.16, -15.72,   7.15,   2.56]),\n",
       " 4: array([18.82,  2.38, 55.22, 80.66])}"
      ]
     },
     "execution_count": 15,
     "metadata": {},
     "output_type": "execute_result"
    }
   ],
   "source": [
    "differences"
   ]
  },
  {
   "cell_type": "code",
   "execution_count": 16,
   "metadata": {},
   "outputs": [],
   "source": [
    "c1_resampled_means, c1_resampled_stds, c1_boots_mean, \\\n",
    "c1_boots_std, c1_lbp, c1_rbp, c1_lbn, c1_rbn = bootstrapping(x=x[idxs[1]], n_resample=n_resample, n_bootstrap=n_bootstrap)\n",
    "\n",
    "# plt.hist(c1_resampled_means, bins=50)\n",
    "# plt.title(\"Histogram of Means of Resampled Data of 1st Cluster \")\n",
    "# plt.show()"
   ]
  },
  {
   "cell_type": "code",
   "execution_count": 17,
   "metadata": {},
   "outputs": [],
   "source": [
    "c2_resampled_means, c2_resampled_stds, c2_boots_mean, \\\n",
    "c2_boots_std, c2_lbp, c2_rbp, c2_lbn, c2_rbn = bootstrapping(x=x[idxs[2]], n_resample=n_resample, n_bootstrap=n_bootstrap)\n",
    "\n",
    "# plt.hist(c2_resampled_means, bins=50)\n",
    "# plt.title(\"Histogram of Means of Resampled Data of 2nd Cluster \")\n",
    "# plt.show()"
   ]
  },
  {
   "cell_type": "code",
   "execution_count": 18,
   "metadata": {},
   "outputs": [],
   "source": [
    "d12 = np.subtract(np.asarray(c1_resampled_means), np.asarray(c2_resampled_means))  # Difference between 1st and 2nd cluster\n",
    "d1x = np.subtract(np.asarray(c1_resampled_means), np.asarray(x_resampled_means))  # Difference between 1st and x\n",
    "d2x = np.subtract(np.asarray(c2_resampled_means), np.asarray(x_resampled_means))  # Difference between 1st and x"
   ]
  },
  {
   "cell_type": "code",
   "execution_count": 19,
   "metadata": {},
   "outputs": [
    {
     "data": {
      "image/png": "[encoded data removed]",
      "text/plain": [
       "<Figure size 1404x684 with 5 Axes>"
      ]
     },
     "metadata": {
      "needs_background": "light"
     },
     "output_type": "display_data"
    }
   ],
   "source": [
    "fig = plt.figure(figsize=(19.5, 9.5))\n",
    "\n",
    "ax = fig.add_subplot(151)\n",
    "plt.hist(x, bins=20)\n",
    "plt.title(\"Ramdom Samples\")\n",
    "\n",
    "\n",
    "ax = fig.add_subplot(152)\n",
    "plt.hist(x_resampled_means, bins=50)\n",
    "plt.title(\"Means of Resampled\")\n",
    "\n",
    "ax = fig.add_subplot(153)\n",
    "plt.hist(c1_resampled_means, bins=50)\n",
    "plt.title(\"Means of Resampled of 1st Cluster \")\n",
    "\n",
    "ax = fig.add_subplot(154)\n",
    "plt.hist(c2_resampled_means, bins=50)\n",
    "plt.title(\"Means of Resampled of 2nd Cluster \")\n",
    "\n",
    "ax = fig.add_subplot(155)\n",
    "plt.hist(d12, bins=50)\n",
    "plt.title(\"c1_rs_means - c2_rs_means\")  # rs stands for resampled data\n",
    "plt.show()"
   ]
  },
  {
   "cell_type": "code",
   "execution_count": 20,
   "metadata": {},
   "outputs": [
    {
     "data": {
      "image/png": "[encoded data removed]",
      "text/plain": [
       "<Figure size 1404x684 with 5 Axes>"
      ]
     },
     "metadata": {
      "needs_background": "light"
     },
     "output_type": "display_data"
    }
   ],
   "source": [
    "fig = plt.figure(figsize=(19.5, 9.5))\n",
    "\n",
    "ax = fig.add_subplot(151)\n",
    "plt.hist(x, bins=20)\n",
    "plt.title(\"Ramdom Samples\")\n",
    "\n",
    "\n",
    "ax = fig.add_subplot(152)\n",
    "plt.hist(x_resampled_means, bins=50)\n",
    "plt.title(\"Means of Resampled\")\n",
    "\n",
    "ax = fig.add_subplot(153)\n",
    "plt.hist(c1_resampled_means, bins=50)\n",
    "plt.title(\"Means of Resampled of 1st Cluster \")\n",
    "\n",
    "ax = fig.add_subplot(154)\n",
    "plt.hist(d2x, bins=50)\n",
    "plt.title(\"c2_rs_means - x_rs_means\")  # rs stands for resampled data\n",
    "\n",
    "ax = fig.add_subplot(155)\n",
    "plt.hist(d1x, bins=50)\n",
    "plt.title(\"c1_rs_means - x_rs_means\")  # rs stands for resampled data\n",
    "plt.show()"
   ]
  },
  {
   "cell_type": "code",
   "execution_count": 21,
   "metadata": {},
   "outputs": [
    {
     "name": "stdout",
     "output_type": "stream",
     "text": [
      "lbp_d12: -1.0270: rbp_d12:0.0359 Zero in confidence interval: False\n",
      "lbn_d12: -1.0973: rbn_d12: -0.9566 Zero in confidence interval: False\n"
     ]
    }
   ],
   "source": [
    "lbp_d12, rbp_d12, lbn_d12, rbn_d12, _ , _ = compute_confidence(resampled_means=d12)\n",
    "\n",
    "print(\"lbp_d12: %.4f:\" % lbp_d12, \"rbp_d12:%.4f\" % rbp_d12, \"Zero in confidence interval:\", 0 in np.linspace(lbp_d12, rbp_d12))\n",
    "print(\"lbn_d12: %.4f:\" %lbn_d12, \"rbn_d12: %.4f\" % rbn_d12, \"Zero in confidence interval:\", 0 in np.linspace(lbn_d12, rbn_d12))"
   ]
  },
  {
   "cell_type": "markdown",
   "metadata": {},
   "source": [
    "### Conclusion\n",
    "\n",
    "one of the means is greater than the other!"
   ]
  },
  {
   "cell_type": "code",
   "execution_count": 22,
   "metadata": {},
   "outputs": [
    {
     "name": "stdout",
     "output_type": "stream",
     "text": [
      "lbp_d1x: -0.6220: rbp_d1x:0.0699 Zero in confidence interval: False\n",
      "lbn_d1x: -0.7591: rbn_d1x: -0.4850 Zero in confidence interval: False\n"
     ]
    }
   ],
   "source": [
    "lbp_d1x, rbp_d1x, lbn_d1x, rbn_d1x, _ , _ = compute_confidence(resampled_means=d1x)\n",
    "\n",
    "print(\"lbp_d1x: %.4f:\" % lbp_d1x, \"rbp_d1x:%.4f\" % rbp_d1x, \"Zero in confidence interval:\", 0 in np.linspace(lbp_d1x, rbp_d1x))\n",
    "print(\"lbn_d1x: %.4f:\" %lbn_d1x, \"rbn_d1x: %.4f\" % rbn_d1x, \"Zero in confidence interval:\", 0 in np.linspace(lbn_d1x, rbn_d1x))"
   ]
  },
  {
   "cell_type": "code",
   "execution_count": 23,
   "metadata": {},
   "outputs": [
    {
     "name": "stdout",
     "output_type": "stream",
     "text": [
      "lbp_d2x: 0.4049: rbp_d2x:0.0724 Zero in confidence interval: False\n",
      "lbn_d2x: 0.2630: rbn_d2x: 0.5468 Zero in confidence interval: False\n"
     ]
    }
   ],
   "source": [
    "lbp_d2x, rbp_d2x, lbn_d2x, rbn_d2x, _ , _ = compute_confidence(resampled_means=d2x)\n",
    "\n",
    "print(\"lbp_d2x: %.4f:\" % lbp_d2x, \"rbp_d2x:%.4f\" % rbp_d2x, \"Zero in confidence interval:\", 0 in np.linspace(lbp_d2x, rbp_d2x))\n",
    "print(\"lbn_d2x: %.4f:\" %lbn_d2x, \"rbn_d2x: %.4f\" % rbn_d2x, \"Zero in confidence interval:\", 0 in np.linspace(lbn_d2x, rbn_d2x))"
   ]
  },
  {
   "cell_type": "markdown",
   "metadata": {},
   "source": [
    "### going furthure\n"
   ]
  },
  {
   "cell_type": "code",
   "execution_count": 24,
   "metadata": {},
   "outputs": [
    {
     "name": "stdout",
     "output_type": "stream",
     "text": [
      "Samples Mean       : 5.8433  Samples Std             : 0.8253\n",
      "Bootstrap Mean     : 5.8427  Bootstrap Std           : 0.0399\n",
      " \n",
      "x  Left Bound-Pivotal : 5.7644 x   Right Bound-Pivotal     : 5.9210\n",
      "c1 Left Bound-Pivotal : 5.1908 c1  Right Bound-Pivotal     : 5.2505\n",
      "c2 Left Bound-Pivotal : 6.2158 c2  Right Bound-Pivotal     : 6.2793\n",
      " \n",
      "x Left Bound-Non Pivotal: 5.7120 x  Right Bound-Non Pivotal : 5.9747\n",
      "c1 Left Bound-Non Pivotal: 5.1800 c1 Right Bound-Non Pivotal : 5.2620\n",
      "c2 Left Bound-Non Pivotal: 6.1913 c2 Right Bound-Non Pivotal : 6.3033\n"
     ]
    }
   ],
   "source": [
    "print(\"Samples Mean       : %.4f\" % mean_samples, \" Samples Std             : %.4f\" % std_samples)\n",
    "print(\"Bootstrap Mean     : %.4f\" % x_boots_mean, \" Bootstrap Std           : %.4f\" % x_boots_std)\n",
    "print(\" \")\n",
    "print(\"x  Left Bound-Pivotal : %.4f\" % x_lbp, \"x   Right Bound-Pivotal     : %.4f\" % x_rbp)\n",
    "print(\"c1 Left Bound-Pivotal : %.4f\" % c1_lbp, \"c1  Right Bound-Pivotal     : %.4f\" % c1_rbp)\n",
    "print(\"c2 Left Bound-Pivotal : %.4f\" % c2_lbp, \"c2  Right Bound-Pivotal     : %.4f\" % c2_rbp)\n",
    "print(\" \")\n",
    "\n",
    "print(\"x Left Bound-Non Pivotal: %.4f\" % x_lbn, \"x  Right Bound-Non Pivotal : %.4f\" % x_rbn)\n",
    "print(\"c1 Left Bound-Non Pivotal: %.4f\" % c1_lbn, \"c1 Right Bound-Non Pivotal : %.4f\" % c1_rbn)\n",
    "print(\"c2 Left Bound-Non Pivotal: %.4f\" % c2_lbn, \"c2 Right Bound-Non Pivotal : %.4f\" % c2_rbn)"
   ]
  },
  {
   "cell_type": "code",
   "execution_count": null,
   "metadata": {},
   "outputs": [],
   "source": []
  },
  {
   "cell_type": "code",
   "execution_count": null,
   "metadata": {},
   "outputs": [],
   "source": []
  },
  {
   "cell_type": "code",
   "execution_count": null,
   "metadata": {},
   "outputs": [],
   "source": []
  }
 ],
 "metadata": {
  "kernelspec": {
   "display_name": "Python 3",
   "language": "python",
   "name": "python3"
  },
  "language_info": {
   "codemirror_mode": {
    "name": "ipython",
    "version": 3
   },
   "file_extension": ".py",
   "mimetype": "text/x-python",
   "name": "python",
   "nbconvert_exporter": "python",
   "pygments_lexer": "ipython3",
   "version": "3.7.3"
  }
 },
 "nbformat": 4,
 "nbformat_minor": 2
}
