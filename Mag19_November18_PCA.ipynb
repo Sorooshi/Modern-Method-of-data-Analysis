{
 "cells": [
  {
   "cell_type": "code",
   "execution_count": 1,
   "metadata": {},
   "outputs": [],
   "source": [
    "import numpy as np\n",
    "import numpy.linalg as LA\n",
    "from sklearn import datasets\n",
    "import matplotlib.pyplot as plt"
   ]
  },
  {
   "cell_type": "code",
   "execution_count": 2,
   "metadata": {},
   "outputs": [],
   "source": [
    "np.set_printoptions(suppress=True, precision=3)"
   ]
  },
  {
   "cell_type": "code",
   "execution_count": 3,
   "metadata": {},
   "outputs": [],
   "source": [
    "iris = datasets.load_iris()\n",
    "\n",
    "X = iris.data\n",
    "y = iris.target\n",
    "\n",
    "N, V = X.shape"
   ]
  },
  {
   "cell_type": "markdown",
   "metadata": {},
   "source": [
    "### cetering "
   ]
  },
  {
   "cell_type": "code",
   "execution_count": 4,
   "metadata": {},
   "outputs": [
    {
     "data": {
      "text/plain": [
       "(150, 4)"
      ]
     },
     "execution_count": 4,
     "metadata": {},
     "output_type": "execute_result"
    }
   ],
   "source": [
    "# Y = np.subtract(X , np.mean(X, axis=0))\n",
    "ma = np.max(X, axis=0)  # maximum \n",
    "mi = np.min(X, axis=0)  # minumu\n",
    "Y = np.divide(np.subtract(X, mi), np.subtract(ma, mi))\n",
    "Y.shape"
   ]
  },
  {
   "cell_type": "code",
   "execution_count": 5,
   "metadata": {},
   "outputs": [
    {
     "data": {
      "text/plain": [
       "array([[0.222, 0.625, 0.068, 0.042],\n",
       "       [0.167, 0.417, 0.068, 0.042]])"
      ]
     },
     "execution_count": 5,
     "metadata": {},
     "output_type": "execute_result"
    }
   ],
   "source": [
    "Y[:2, :]"
   ]
  },
  {
   "cell_type": "code",
   "execution_count": 6,
   "metadata": {},
   "outputs": [
    {
     "data": {
      "text/plain": [
       "array([[0.528, 0.583, 0.746, 0.917],\n",
       "       [0.444, 0.417, 0.695, 0.708]])"
      ]
     },
     "execution_count": 6,
     "metadata": {},
     "output_type": "execute_result"
    }
   ],
   "source": [
    "Y[-2:, :]"
   ]
  },
  {
   "cell_type": "markdown",
   "metadata": {},
   "source": [
    "### Data scatter"
   ]
  },
  {
   "cell_type": "code",
   "execution_count": 7,
   "metadata": {},
   "outputs": [
    {
     "name": "stdout",
     "output_type": "stream",
     "text": [
      "data_scatter 162.09724865539914\n"
     ]
    }
   ],
   "source": [
    "data_scatter = np.sum(np.power(Y, 2))\n",
    "print(\"data_scatter\", data_scatter)"
   ]
  },
  {
   "cell_type": "markdown",
   "metadata": {},
   "source": [
    "#### Singular Value Decomposition.\n"
   ]
  },
  {
   "cell_type": "code",
   "execution_count": 8,
   "metadata": {},
   "outputs": [
    {
     "name": "stdout",
     "output_type": "stream",
     "text": [
      "z shape: (150, 150) mu shape: (4,) c shape: (4, 4)\n"
     ]
    }
   ],
   "source": [
    "# U, s, V'\n",
    "# 2D array of singula vectors, 1D array of a’s singular values,   \n",
    "z, mu, c = LA.svd(Y)\n",
    "print(\"z shape:\", z.shape, \"mu shape:\", mu.shape, \"c shape:\", c.shape)"
   ]
  },
  {
   "cell_type": "code",
   "execution_count": 9,
   "metadata": {},
   "outputs": [],
   "source": [
    "zc = z[:4, :4]  # z correct"
   ]
  },
  {
   "cell_type": "code",
   "execution_count": 10,
   "metadata": {},
   "outputs": [
    {
     "data": {
      "text/plain": [
       "array([[-0.487, -0.391, -0.553, -0.552],\n",
       "       [ 0.015,  0.89 , -0.308, -0.336],\n",
       "       [-0.797,  0.22 , -0.015,  0.562],\n",
       "       [ 0.357, -0.079, -0.774,  0.517]])"
      ]
     },
     "execution_count": 10,
     "metadata": {},
     "output_type": "execute_result"
    }
   ],
   "source": [
    "c"
   ]
  },
  {
   "cell_type": "markdown",
   "metadata": {},
   "source": [
    "### The impact of each feature with regarding the data scatter"
   ]
  },
  {
   "cell_type": "code",
   "execution_count": 11,
   "metadata": {},
   "outputs": [
    {
     "data": {
      "text/plain": [
       "array([89.723,  9.123,  0.932,  0.222])"
      ]
     },
     "execution_count": 11,
     "metadata": {},
     "output_type": "execute_result"
    }
   ],
   "source": [
    "np.divide((np.power(mu, 2))*100, data_scatter)"
   ]
  },
  {
   "cell_type": "code",
   "execution_count": 12,
   "metadata": {},
   "outputs": [
    {
     "data": {
      "text/plain": [
       "array([-0.487,  0.015, -0.797,  0.357])"
      ]
     },
     "execution_count": 12,
     "metadata": {},
     "output_type": "execute_result"
    }
   ],
   "source": [
    "c0 = c[:, 0]\n",
    "c0"
   ]
  },
  {
   "cell_type": "code",
   "execution_count": 13,
   "metadata": {},
   "outputs": [
    {
     "data": {
      "text/plain": [
       "array([0.034, 0.025, 0.025, 0.024, 0.034, 0.049, 0.029, 0.033, 0.018,\n",
       "       0.025, 0.041, 0.031, 0.022, 0.014, 0.047, 0.058, 0.046, 0.036,\n",
       "       0.049, 0.041, 0.039, 0.042, 0.027, 0.04 , 0.033, 0.028, 0.037,\n",
       "       0.036, 0.034, 0.027, 0.027, 0.041, 0.042, 0.048, 0.027, 0.028,\n",
       "       0.038, 0.031, 0.019, 0.034, 0.034, 0.012, 0.022, 0.042, 0.046,\n",
       "       0.026, 0.04 , 0.025, 0.04 , 0.03 , 0.1  , 0.094, 0.101, 0.064,\n",
       "       0.09 , 0.077, 0.097, 0.047, 0.089, 0.067, 0.044, 0.083, 0.062,\n",
       "       0.086, 0.07 , 0.093, 0.082, 0.068, 0.078, 0.063, 0.096, 0.077,\n",
       "       0.086, 0.081, 0.084, 0.09 , 0.093, 0.102, 0.085, 0.06 , 0.06 ,\n",
       "       0.057, 0.07 , 0.089, 0.08 , 0.094, 0.097, 0.076, 0.075, 0.066,\n",
       "       0.069, 0.086, 0.069, 0.047, 0.072, 0.075, 0.076, 0.082, 0.05 ,\n",
       "       0.073, 0.125, 0.092, 0.121, 0.103, 0.116, 0.132, 0.071, 0.119,\n",
       "       0.103, 0.14 , 0.109, 0.101, 0.115, 0.09 , 0.103, 0.115, 0.106,\n",
       "       0.147, 0.134, 0.08 , 0.124, 0.092, 0.129, 0.095, 0.119, 0.12 ,\n",
       "       0.094, 0.096, 0.108, 0.112, 0.12 , 0.143, 0.11 , 0.092, 0.089,\n",
       "       0.133, 0.121, 0.106, 0.095, 0.116, 0.121, 0.118, 0.092, 0.124,\n",
       "       0.127, 0.115, 0.095, 0.107, 0.116, 0.096])"
      ]
     },
     "execution_count": 13,
     "metadata": {},
     "output_type": "execute_result"
    }
   ],
   "source": [
    "z0 = -z[:, 0]\n",
    "z0"
   ]
  },
  {
   "cell_type": "code",
   "execution_count": 14,
   "metadata": {},
   "outputs": [
    {
     "name": "stdout",
     "output_type": "stream",
     "text": [
      "0.01243870611302252 0.14676469626910174\n"
     ]
    }
   ],
   "source": [
    "zm = np.min(z0)\n",
    "zM = np.max(z0)\n",
    "print(zm, zM)"
   ]
  },
  {
   "cell_type": "code",
   "execution_count": 15,
   "metadata": {},
   "outputs": [
    {
     "data": {
      "text/plain": [
       "array([ 16.235,   9.538,   9.301,   8.619,  16.406,  27.335,  12.476,\n",
       "        14.974,   4.36 ,   9.703,  21.328,  13.883,   7.284,   1.376,\n",
       "        25.947,  33.71 ,  25.02 ,  17.654,  27.414,  21.25 ,  19.469,\n",
       "        21.663,  10.753,  20.217,  15.62 ,  11.529,  18.39 ,  17.648,\n",
       "        16.064,  11.037,  10.866,  21.149,  22.263,  26.613,  11.122,\n",
       "        11.226,  18.994,  14.153,   4.786,  15.808,  16.241,   0.   ,\n",
       "         6.798,  22.234,  24.984,  10.122,  20.41 ,   9.046,  20.494,\n",
       "        13.389,  65.198,  60.453,  65.935,  38.16 ,  57.843,  47.751,\n",
       "        63.201,  25.851,  56.846,  40.52 ,  23.82 ,  52.533,  37.07 ,\n",
       "        54.671,  42.714,  59.953,  51.766,  41.008,  48.727,  37.589,\n",
       "        62.274,  48.195,  54.894,  50.828,  53.441,  58.113,  60.085,\n",
       "        66.677,  54.098,  35.695,  35.17 ,  33.173,  42.688,  56.978,\n",
       "        50.097,  60.545,  63.108,  47.151,  46.613,  40.171,  42.073,\n",
       "        55.098,  42.262,  25.68 ,  44.175,  46.607,  47.021,  51.772,\n",
       "        28.208,  45.436,  83.495,  59.566,  80.899,  67.224,  76.732,\n",
       "        89.122,  43.734,  79.62 ,  67.697,  94.601,  71.855,  65.73 ,\n",
       "        76.08 ,  57.56 ,  67.666,  76.434,  69.32 , 100.   ,  90.508,\n",
       "        49.952,  82.922,  59.164,  87.105,  61.162,  79.421,  80.067,\n",
       "        60.754,  62.51 ,  71.31 ,  74.06 ,  79.71 ,  97.095,  72.729,\n",
       "        59.068,  56.863,  89.901,  80.766,  69.492,  61.097,  77.342,\n",
       "        81.087,  78.443,  59.566,  83.245,  85.096,  76.348,  61.148,\n",
       "        70.422,  77.356,  61.999])"
      ]
     },
     "execution_count": 15,
     "metadata": {},
     "output_type": "execute_result"
    }
   ],
   "source": [
    "z0c = 100*(z0-zm)/(zM-zm)\n",
    "z0c"
   ]
  },
  {
   "cell_type": "markdown",
   "metadata": {},
   "source": [
    "### Data Visualization\n",
    "#### Data standardization"
   ]
  },
  {
   "cell_type": "code",
   "execution_count": 67,
   "metadata": {},
   "outputs": [],
   "source": [
    "mean = np.mean(X, axis=0)\n",
    "std = np.mean(X, axis=0)\n",
    "rng  = np.ptp(X, axis=0)\n",
    "\n",
    "Yz = np.divide(np.subtract(X, mean), std)  # Z-scoring\n",
    "Yr = np.divide(np.subtract(X, mean), rng)  # rng-scoring\n"
   ]
  },
  {
   "cell_type": "code",
   "execution_count": 68,
   "metadata": {},
   "outputs": [
    {
     "data": {
      "text/plain": [
       "array([[-0.059, -0.182,  0.064,  0.084],\n",
       "       [-0.059, -0.15 ,  0.171,  0.001],\n",
       "       [ 0.044, -0.019,  0.224,  0.167],\n",
       "       [-0.007, -0.15 ,  0.064,  0.001]])"
      ]
     },
     "execution_count": 68,
     "metadata": {},
     "output_type": "execute_result"
    }
   ],
   "source": [
    "Yz[89:93, :]"
   ]
  },
  {
   "cell_type": "code",
   "execution_count": 69,
   "metadata": {},
   "outputs": [
    {
     "data": {
      "text/plain": [
       "array([[-0.095, -0.232,  0.041,  0.042],\n",
       "       [-0.095, -0.191,  0.109,  0.   ],\n",
       "       [ 0.071, -0.024,  0.143,  0.084],\n",
       "       [-0.012, -0.191,  0.041,  0.   ]])"
      ]
     },
     "execution_count": 69,
     "metadata": {},
     "output_type": "execute_result"
    }
   ],
   "source": [
    "Yr[89:93, :]"
   ]
  },
  {
   "cell_type": "code",
   "execution_count": 70,
   "metadata": {},
   "outputs": [],
   "source": [
    "zz, muz, cz = LA.svd(Yz)  # compute svd for Yz\n",
    "zr, mur, cr = LA.svd(Yr)  # compute svd for Yr"
   ]
  },
  {
   "cell_type": "code",
   "execution_count": 71,
   "metadata": {},
   "outputs": [
    {
     "name": "stdout",
     "output_type": "stream",
     "text": [
      "muz: [9.701 1.698 1.343 0.545]\n",
      "mur: [5.885 2.199 1.196 0.513]\n"
     ]
    }
   ],
   "source": [
    "print(\"muz:\", muz)\n",
    "print(\"mur:\", mur)"
   ]
  },
  {
   "cell_type": "code",
   "execution_count": 72,
   "metadata": {},
   "outputs": [
    {
     "data": {
      "image/png": "[encoded data removed]",
      "text/plain": [
       "<Figure size 432x288 with 1 Axes>"
      ]
     },
     "metadata": {
      "needs_background": "light"
     },
     "output_type": "display_data"
    }
   ],
   "source": [
    "zz0 = zz[:, 0]*np.sqrt(muz[0])\n",
    "zz1 = zz[:, 1]*np.sqrt(muz[1])\n",
    "\n",
    "plt.scatter(zz0, zz1)\n",
    "plt.title(\"PCA of Z-score standardized data\")\n",
    "plt.show()"
   ]
  },
  {
   "cell_type": "code",
   "execution_count": 73,
   "metadata": {},
   "outputs": [
    {
     "data": {
      "image/png": "[encoded data removed]",
      "text/plain": [
       "<Figure size 432x288 with 1 Axes>"
      ]
     },
     "metadata": {
      "needs_background": "light"
     },
     "output_type": "display_data"
    }
   ],
   "source": [
    "zr0 = zr[:, 0]*np.sqrt(mur[0])\n",
    "zr1 = zr[:, 1]*np.sqrt(mur[1])\n",
    "\n",
    "plt.scatter(zr0, zr1)\n",
    "plt.title(\"PCA of range standardatized data\")\n",
    "plt.show()"
   ]
  },
  {
   "cell_type": "code",
   "execution_count": 74,
   "metadata": {},
   "outputs": [
    {
     "data": {
      "image/png": "[encoded data removed]",
      "text/plain": [
       "<Figure size 432x288 with 1 Axes>"
      ]
     },
     "metadata": {
      "needs_background": "light"
     },
     "output_type": "display_data"
    }
   ],
   "source": [
    "fig = plt.figure()  # figsize=(10, 15)\n",
    "ax = fig.add_subplot(1, 1, 1)\n",
    "ax.scatter(zr0, zr1, c='b')\n",
    "ax = fig.add_subplot(1, 1, 1)\n",
    "ax.scatter(zz0, zz1, c='r')\n",
    "ax.scatter(zr0[50: 100], zr1[50:100], c='k')\n",
    "plt.legend(\"Z\" + \"R\" + \"2\")\n",
    "plt.show()"
   ]
  },
  {
   "cell_type": "markdown",
   "metadata": {},
   "source": [
    "### Conventional PCA"
   ]
  },
  {
   "cell_type": "code",
   "execution_count": null,
   "metadata": {},
   "outputs": [],
   "source": []
  }
 ],
 "metadata": {
  "kernelspec": {
   "display_name": "Python 3",
   "language": "python",
   "name": "python3"
  },
  "language_info": {
   "codemirror_mode": {
    "name": "ipython",
    "version": 3
   },
   "file_extension": ".py",
   "mimetype": "text/x-python",
   "name": "python",
   "nbconvert_exporter": "python",
   "pygments_lexer": "ipython3",
   "version": "3.7.3"
  }
 },
 "nbformat": 4,
 "nbformat_minor": 2
}
